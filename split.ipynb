{
 "cells": [
  {
   "cell_type": "code",
   "execution_count": null,
   "metadata": {},
   "outputs": [],
   "source": [
    "import json\n",
    "import random\n",
    "\n",
    "INPUT_PATH = 'all_data_final_filtered.jsonl'\n",
    "NUM_ANNOTATORS = 4\n",
    "\n",
    "with open(INPUT_PATH, 'r', encoding='utf-8') as f:\n",
    "    lines = f.readlines()\n",
    "random.shuffle(lines)\n",
    "\n",
    "chunk_size = len(lines) // NUM_ANNOTATORS\n",
    "name_map = {\n",
    "    0 : \"rohan\",\n",
    "    1 : \"gagan\",\n",
    "    2 : \"amit\",\n",
    "    3 : \"abhay\",\n",
    "}\n",
    "for i in range(NUM_ANNOTATORS):\n",
    "    start = i * chunk_size\n",
    "    end = (i + 1) * chunk_size if i < NUM_ANNOTATORS - 1 else len(lines)\n",
    "    chunk = lines[start:end]\n",
    "    \n",
    "    with open(f'{name_map[i]}.jsonl', 'w', encoding='utf-8') as out:\n",
    "        out.writelines(chunk)\n"
   ]
  },
  {
   "cell_type": "code",
   "execution_count": null,
   "metadata": {},
   "outputs": [],
   "source": []
  }
 ],
 "metadata": {
  "language_info": {
   "name": "python"
  }
 },
 "nbformat": 4,
 "nbformat_minor": 2
}
